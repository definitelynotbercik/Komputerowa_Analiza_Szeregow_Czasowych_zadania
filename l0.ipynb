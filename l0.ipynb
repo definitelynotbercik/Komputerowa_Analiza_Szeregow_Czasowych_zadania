{
 "cells": [
  {
   "metadata": {
    "ExecuteTime": {
     "end_time": "2024-10-08T16:03:05.184349Z",
     "start_time": "2024-10-08T16:03:05.172086Z"
    }
   },
   "cell_type": "code",
   "source": [
    "import numpy as np\n",
    "import matplotlib.pyplot as plt\n",
    "import seaborn as sns\n",
    "from scipy.stats import norm"
   ],
   "id": "40fb482040b659a",
   "execution_count": 2,
   "outputs": []
  },
  {
   "metadata": {},
   "cell_type": "markdown",
   "source": "# Zad1",
   "id": "655941f5498efbe4"
  },
  {
   "cell_type": "code",
   "id": "initial_id",
   "metadata": {
    "collapsed": true,
    "ExecuteTime": {
     "end_time": "2024-10-08T16:03:06.298741Z",
     "start_time": "2024-10-08T16:03:05.399761Z"
    }
   },
   "source": [
    "mi = 0\n",
    "sigma = 4\n",
    "\n",
    "X = np.random.normal(mi, sigma, 100)\n",
    "Y = np.random.normal(mi, sigma, 1000)\n",
    "\n",
    "plt.plot(np.arange(100), X)\n",
    "plt.show()\n",
    "plt.plot(np.arange(1000), Y)\n",
    "plt.show()"
   ],
   "execution_count": 3,
   "outputs": []
  },
  {
   "metadata": {
    "ExecuteTime": {
     "end_time": "2024-10-08T16:03:06.699873Z",
     "start_time": "2024-10-08T16:03:06.300212Z"
    }
   },
   "cell_type": "code",
   "source": [
    "data = np.random.normal(loc=0, scale=4, size=100)\n",
    "\n",
    "# dystrybuanta teoretyczna\n",
    "x_theo = np.linspace(-10, 10, 100)\n",
    "y_theo = norm.cdf(x_theo, loc=0, scale=4)\n",
    "\n",
    "# wykresy\n",
    "plt.figure(figsize=(10, 6))\n",
    "sns.ecdfplot(data, label='Empirical CDF')\n",
    "plt.plot(x_theo, y_theo, label='Theoretical CDF (Normal)')\n",
    "plt.xlabel('x')\n",
    "plt.ylabel('Cumulative Probability')\n",
    "plt.title('Empirical vs Theoretical CDF for N(0,1)')\n",
    "plt.legend()\n",
    "plt.grid(True)\n",
    "plt.show()"
   ],
   "id": "78bd8141e647edc4",
   "execution_count": 4,
   "outputs": []
  },
  {
   "metadata": {
    "ExecuteTime": {
     "end_time": "2024-10-08T16:03:07.057598Z",
     "start_time": "2024-10-08T16:03:06.699873Z"
    }
   },
   "cell_type": "code",
   "source": [
    "data = np.random.normal(loc=0, scale=4, size=1000)\n",
    "\n",
    "# dystrybuanta teoretyczna\n",
    "x_theo = np.linspace(-15, 10, 1000)\n",
    "y_theo = norm.cdf(x_theo, loc=0, scale=4)\n",
    "\n",
    "# wykresy\n",
    "plt.figure(figsize=(10, 6))\n",
    "sns.ecdfplot(data, label='Empirical CDF')\n",
    "plt.plot(x_theo, y_theo, label='Theoretical CDF (Normal)')\n",
    "plt.xlabel('x')\n",
    "plt.ylabel('Cumulative Probability')\n",
    "plt.title('Empirical vs Theoretical CDF for N(0,1)')\n",
    "plt.legend()\n",
    "plt.grid(True)\n",
    "plt.show()"
   ],
   "id": "53cece1c343d3e99",
   "execution_count": 5,
   "outputs": []
  },
  {
   "metadata": {
    "ExecuteTime": {
     "end_time": "2024-10-08T16:03:07.560973Z",
     "start_time": "2024-10-08T16:03:07.057598Z"
    }
   },
   "cell_type": "code",
   "source": [
    "data = np.random.normal(loc=0, scale=4, size=100)\n",
    "\n",
    "x = np.linspace(-10, 10, 100)\n",
    "y = norm.pdf(x, loc=0, scale=4)\n",
    "\n",
    "plt.figure(figsize=(10, 6))\n",
    "sns.histplot(data, stat='density', label='Empirical PDF')\n",
    "plt.plot(x, y, label='Theoretical PDF (Normal)')\n",
    "plt.legend()\n",
    "\n"
   ],
   "id": "1b129b4686b83ebf",
   "execution_count": 6,
   "outputs": []
  },
  {
   "metadata": {
    "ExecuteTime": {
     "end_time": "2024-10-08T16:03:08.019320Z",
     "start_time": "2024-10-08T16:03:07.560973Z"
    }
   },
   "cell_type": "code",
   "source": [
    "data = np.random.normal(loc=0, scale=4, size=1000)\n",
    "\n",
    "x = np.linspace(-10, 10, 1000)\n",
    "y = norm.pdf(x, loc=0, scale=4)\n",
    "\n",
    "plt.figure(figsize=(10, 6))\n",
    "sns.histplot(data, stat='density', label='Empirical PDF')\n",
    "plt.plot(x, y, label='Theoretical PDF (Normal)')\n",
    "plt.legend()"
   ],
   "id": "e686f19b322af89a",
   "execution_count": 7,
   "outputs": []
  },
  {
   "metadata": {
    "ExecuteTime": {
     "end_time": "2024-10-08T16:03:08.661392Z",
     "start_time": "2024-10-08T16:03:08.019320Z"
    }
   },
   "cell_type": "code",
   "source": [
    "def characteristic_function(t, mi, sigma):\n",
    "    return np.exp(1j*t*mi - 0.5*sigma*t**2)\n",
    "\n",
    "def characteristic_function_2(t, x, n):\n",
    "    return 1/n * np.sum(np.exp(1j * np.outer(t, x)), axis=1)\n",
    "\n",
    "t = np.linspace(-5, 5, 100)\n",
    "x = np.random.normal(0, 4, 100)\n",
    "\n",
    "char1_real = characteristic_function(t, 0, 4).real\n",
    "char1_imag = characteristic_function(t, 0, 4).imag\n",
    "\n",
    "char2_real = characteristic_function_2(t, x, 100).real\n",
    "char2_imag = characteristic_function_2(t, x, 100).imag\n",
    "\n",
    "plt.plot(t, char1_real, label='char1_real')\n",
    "plt.plot(t, char2_real, label='char2_real')\n",
    "plt.legend()\n",
    "plt.show()\n",
    "plt.plot(t, char2_imag, label='char2_imag')\n",
    "plt.plot(t, char1_imag, label='char1_imag')\n",
    "plt.legend()\n",
    "plt.show()"
   ],
   "id": "8bfc4f2e8b145e49",
   "execution_count": 8,
   "outputs": []
  },
  {
   "metadata": {},
   "cell_type": "markdown",
   "source": "# Zad2",
   "id": "2cbc1e60dd0b35ff"
  },
  {
   "metadata": {
    "ExecuteTime": {
     "end_time": "2024-10-08T16:05:17.610285Z",
     "start_time": "2024-10-08T16:05:17.038407Z"
    }
   },
   "cell_type": "code",
   "source": [
    "MC = 200\n",
    "n_list = [50, 100, 1000]\n",
    "\n",
    "for n in n_list:\n",
    "    \n",
    "    est_naj_wiar = []\n",
    "    est_m_mom = []\n",
    "    \n",
    "    for i in range(MC):\n",
    "        x = np.random.normal(0, 1, n)\n",
    "        y = np.abs(x - np.mean(x))\n",
    "        e1 = np.sqrt(1/n * np.sum(y**2))\n",
    "        e2 = np.sqrt(1/n * np.sum(x**2) - (1/n * np.sum(x))**2)\n",
    "        est_naj_wiar.append(e1)\n",
    "        est_m_mom.append(e2)\n",
    "        \n",
    "    plt.boxplot(est_naj_wiar)\n",
    "    plt.boxplot(est_m_mom)\n",
    "    plt.show()"
   ],
   "id": "edf0d6994d23fec8",
   "execution_count": 11,
   "outputs": []
  }
 ],
 "metadata": {
  "kernelspec": {
   "display_name": "Python 3",
   "language": "python",
   "name": "python3"
  },
  "language_info": {
   "codemirror_mode": {
    "name": "ipython",
    "version": 2
   },
   "file_extension": ".py",
   "mimetype": "text/x-python",
   "name": "python",
   "nbconvert_exporter": "python",
   "pygments_lexer": "ipython2",
   "version": "2.7.6"
  }
 },
 "nbformat": 4,
 "nbformat_minor": 5
}
